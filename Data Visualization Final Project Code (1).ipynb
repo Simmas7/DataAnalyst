import seaborn as sns
import matplotlib.pyplot as plt
import pandas as pd
import numpy as np

df=pd.read_csv(r"C:\Users\harig\Downloads\archive\CWC23_all_innings.csv")
print(df.head())



#-------------------------------------------------
print(df.info())

#-----------------------------------

team_runs = df.groupby('team')['runs'].sum().reset_index()

# Create a bar chart with unique colors for each team
sns.set(style="whitegrid")
plt.figure(figsize=(12, 6))

palette = sns.color_palette("husl", n_colors=len(team_runs))

# Create the bar chart with the total runs on each bar
bar_chart = sns.barplot(x='team', y='runs', data=team_runs, palette=palette)
for i, v in enumerate(team_runs['runs']):
    bar_chart.text(i, v + 20, str(v), color='black', ha='center')

plt.title('Total Runs by Team')
plt.xlabel('Team')
plt.ylabel('Total Runs')
plt.savefig('barplot.png')



#-------------------------------------------

# Assuming df is your DataFrame with the given columns
# Replace 'your_dataset.csv' with your actual dataset file or use your DataFrame directly
# df = pd.read_csv('your_dataset.csv')

# Group by team and calculate the total overs and mean runs per ball for each team
team_stats = df.groupby('team').agg({'overs': 'sum', 'runs_per_ball': 'mean'}).reset_index()

# Create a bar chart with total overs on top of each bar
plt.figure(figsize=(12, 6))

num_teams = len(df['team'].unique())
bar_width = 0.4
bar_positions = np.arange(num_teams)

# Create the  bar graph
plt.bar(bar_positions, df.groupby('team')['runs_per_ball'].mean(), color='skyblue', width=bar_width)


# Set x-axis labels and ticks
plt.xticks(bar_positions, df['team'].unique())
plt.xlabel('Team')

# Set y-axis labels and title
plt.ylabel('Runs per Ball')
plt.title('bar chart of Runs per Ball by Team')
plt.savefig('barchart.png')


#----------------------------------------------------

# Assuming df is your DataFrame with the given columns
# Replace 'your_dataset.csv' with your actual dataset file or use your DataFrame directly
# df = pd.read_csv('your_dataset.csv')

# Calculate mean economy rate for each team
team_econ = df.groupby('team')['econ'].mean().reset_index()

# Define colors for each team
team_colors = {
    'PAK': 'skyblue',
    'ENG': 'lightcoral',
    'NZ': 'lightgreen',
    'AFG': 'b',
    'NED': 'c',
    'BAN': 'm',
    'SA': 'y',
    'SL': 'k',
    'AUS': 'r',
    'IND': 'darkgreen'
    # Add more teams and their corresponding colors as needed
}

# Create a bar chart with different colors for each team
plt.figure(figsize=(14, 12))

# Set up the bar positions
num_teams = len(team_colors)
bar_positions = np.arange(num_teams)

# Create the bars with different colors
for i, (team, color) in enumerate(team_colors.items()):
    team_data = team_econ[team_econ['team'] == team]
    
    # Check if team_data is not empty before trying to access it
    if not team_data.empty:
        plt.bar(i, team_data['econ'].values[0], color=color, label=team)

# Set labels and title
plt.xlabel('Team', fontsize=14, color='k')
plt.ylabel('Average Economy Rate', fontsize=14, color='k')
plt.title('Average Economy Rate by Team', fontsize=16, color='navy')

# Set x-axis labels
plt.xticks(bar_positions, list(team_colors.keys()), rotation=45, ha='right', fontsize=12, color='k')

# Set y-axis labels
plt.yticks(fontsize=12, color='k')

# Add legend
plt.legend(fontsize=12)
plt.savefig('bareconomychart.png')



#----------------------------------------------------


# Assuming df is your DataFrame with the given columns
# Replace 'your_dataset.csv' with your actual dataset file or use your DataFrame directly
# df = pd.read_csv('your_dataset.csv')

# Convert 'start_date' to datetime format
df['start_date'] = pd.to_datetime(df['start_date'])

# Group by team and date, then calculate the total wickets taken for each date
team_wickets_over_time = df.groupby(['team', 'start_date'])['wkts'].sum().reset_index()

# Plotting the line chart for each team
plt.figure(figsize=(12, 8))
teams = df['team'].unique()

for team in teams:
    team_data = team_wickets_over_time[team_wickets_over_time['team'] == team]
    plt.plot(team_data['start_date'], team_data['wkts'], label=team)

# Set labels and title
plt.xlabel('Date', fontsize=14, color='darkgray')
plt.ylabel('Total Wickets Taken', fontsize=14, color='darkgray')
plt.title('Trend of Wickets Taken by Each Team Over Time', fontsize=16, color='navy')

# Add legend
plt.legend(fontsize=12, loc='upper left')
plt.savefig('linechart.png')



#-----------------------------------------------

# Assuming df is your DataFrame with the given columns
# Replace 'your_dataset.csv' with your actual dataset file or use your DataFrame directly
# df = pd.read_csv('your_dataset.csv')

# Group by team and calculate the count of 4s and 6s for each team
team_counts = df.groupby('team')[['4s', '6s']].sum().reset_index()

# Set up the bar positions
num_teams = len(team_counts['team'])
bar_width = 0.4
bar_positions = np.arange(num_teams)

# Create the grouped bar chart
plt.figure(figsize=(12, 8))

# Plot the bars
bars_4s = plt.bar(bar_positions, team_counts['4s'], width=bar_width, label='4s', color='g')
bars_6s = plt.bar(bar_positions + bar_width, team_counts['6s'], width=bar_width, label='6s', color='lightcoral')

# Set labels and title
plt.xlabel('Team', fontsize=14, color='k')
plt.ylabel('Count', fontsize=14, color='k')
plt.title('Count of 4s and 6s by Team', fontsize=16, color='navy')

# Set x-axis labels
plt.xticks(bar_positions + bar_width / 2, team_counts['team'], rotation=45, ha='right', fontsize=12, color='k')

# Set y-axis labels
plt.yticks(fontsize=12, color='k')

# Add legend
plt.legend(fontsize=12)

# Add text annotations on top of each bar
for bar_4s, bar_6s in zip(bars_4s, bars_6s):
    plt.text(bar_4s.get_x() + bar_4s.get_width() / 2, bar_4s.get_height(),
             f'{bar_4s.get_height():.0f}', ha='center', va='bottom', fontsize=10, color='k')
    plt.text(bar_6s.get_x() + bar_6s.get_width() / 2, bar_6s.get_height(),
             f'{bar_6s.get_height():.0f}', ha='center', va='bottom', fontsize=10, color='k')

# Save the plot
plt.savefig('groupedbar_with_counts.png')



#-----------------------------------------------------

# Assuming df is your DataFrame with the given columns
# Replace 'your_dataset.csv' with your actual dataset file or use your DataFrame directly
# df = pd.read_csv('your_dataset.csv')

# Count the number of players in each category (batsmen or bowlers)
player_distribution = df['bat_or_bowl'].value_counts()

# Create a pie chart
plt.figure(figsize=(8, 8))
plt.pie(player_distribution, labels=player_distribution.index, autopct='%1.1f%%', startangle=90, colors=['skyblue', 'lightcoral'])
plt.title('Distribution of Players: Batsmen vs. Bowlers')
plt.savefig('pie.png')

plt.show()


#-----------------------------------------------------------------

# Assuming df is your DataFrame with the given columns
# Replace 'your_dataset.csv' with your actual dataset file or use your DataFrame directly
# df = pd.read_csv('your_dataset.csv')

# Choose the variable you want to analyze (runs or wkts)
variable_to_analyze = 'runs'  # Change to 'wkts' for wickets

# Create a box plot
plt.figure(figsize=(12, 8))
sns.boxplot(x='team', y=variable_to_analyze, data=df, palette='Set2')

# Set labels and title
plt.xlabel('Team', fontsize=14, color='k')
plt.ylabel(f'Distribution of {variable_to_analyze.capitalize()}', fontsize=14, color='k')
plt.title(f'Box Plot: Distribution of {variable_to_analyze.capitalize()} for Different Teams', fontsize=16, color='navy')

# Identify outliers
outliers = df[df['team'].isin(['Team1', 'Team2'])]  # Replace with the specific teams you want to identify outliers for
outliers_data = outliers[outliers[variable_to_analyze] > outliers[variable_to_analyze].mean() + 1.5 * outliers[variable_to_analyze].std()]

# Print identified outliers
print(f'Outliers for {variable_to_analyze}:')
print(outliers_data[['team', variable_to_analyze]])
plt.savefig('boxplot.png')




#-------------------------------------------------------------------

# Assuming df is your DataFrame with the given columns
# Replace 'your_dataset.csv' with your actual dataset file or use your DataFrame directly
# df = pd.read_csv('your_dataset.csv')

# Choose the variables you want to analyze
y_variable = 'wkts'

# Create a scatter plot for each team using stripplot
plt.figure(figsize=(12, 8))
sns.stripplot(x='team', y=y_variable, data=df, palette='Set2', size=10, jitter=True)

# Set labels and title
plt.xlabel('Team', fontsize=14, color='k')
plt.ylabel(f'{y_variable.capitalize()}', fontsize=14, color='k')
plt.title(f'Scatter Plot: Teams vs. {y_variable.capitalize()}', fontsize=16, color='navy')

# Save the plot
plt.savefig('stripplot_teams_wickets.png')



#----------------------------------------------------------------------



# Assuming df is your DataFrame with the given columns
# Replace 'your_dataset.csv' with your actual dataset file or use your DataFrame directly
# df = pd.read_csv('your_dataset.csv')

# Select relevant numerical columns for the heatmap
numerical_columns = ['bb_bf', 'runs', 'wkts', 'wicketball_prob', 'runs_per_ball', 'econ', '4s', '6s']

# Calculate the correlation matrix
correlation_matrix = df[numerical_columns].corr()

# Create a heatmap with annotations and customized appearance
plt.figure(figsize=(14, 12))
sns.set(font_scale=1.1)  # Increase font size for better readability

heatmap = sns.heatmap(correlation_matrix, annot=True, cmap='coolwarm', fmt=".2f", linewidths=.5, vmin=-1, vmax=1)

# Add a title
plt.title('Correlation Heatmap of Numerical Variables', fontsize=16)

# Customize the appearance
heatmap.set_xticklabels(heatmap.get_xticklabels(), rotation=45, ha='right', fontsize=12)
heatmap.set_yticklabels(heatmap.get_yticklabels(), rotation=0, ha='right', fontsize=12)
plt.savefig('heatmap.png')


#-------------------------------------------------------------------------
#to display the plot on your screen
plt.show()
